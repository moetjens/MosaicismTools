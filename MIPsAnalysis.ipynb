{
 "cells": [
  {
   "cell_type": "code",
   "execution_count": 180,
   "metadata": {
    "collapsed": true
   },
   "outputs": [],
   "source": [
    "import sys\n",
    "sys.path.append('/home/moetjens/kidd-lab/jmkidd-projects/scripts/nextgen')\n",
    "sys.path.append('/home/moetjens/kidd-lab/jmkidd-projects/scripts/pythonUtils')\n",
    "import genutils\n",
    "from optparse import OptionParser\n",
    "import fastqstats\n",
    "from collections import defaultdict"
   ]
  },
  {
   "cell_type": "code",
   "execution_count": 181,
   "metadata": {
    "collapsed": false
   },
   "outputs": [],
   "source": [
    "#arguements for inputs, outputs, and sample name\n",
    "\n",
    "USAGE = \"\"\"\n",
    "Program on the command line here\n",
    "\"\"\"\n",
    "\n",
    "parser = OptionParser()\n",
    "parser.add_option('--r1fq',dest='r1fq', help = 'name of f1 fq.gz')\n",
    "parser.add_option('--r2fq',dest='r2fq', help = 'name of f2 fq.gz')\n",
    "parser.add_option('--sample',dest='sampleName', help = 'name of sample')\n",
    "\n",
    "#(options, args) = parser.parse_args()\n",
    "\n",
    "#if options.r1fq is None:\n",
    "#    parser.error('r1fq name not given')\n",
    "\n",
    "#if options.r2fq is None:\n",
    "#    parser.error('r2fq not given')\n",
    "\n",
    "#if options.sampleName is None:\n",
    "#    parser.error('sampleName not given')\n",
    "\n",
    "r1fqFile= \"/home/moetjens/kidd-lab-scratch/moetjens-projects/bsmn/MIPs/Run_2015-03-06/Trp53MIP_S19_L001_R1_001.fastq.gz\"\n",
    "r2fqFile= \"/home/moetjens/kidd-lab-scratch/moetjens-projects/bsmn/MIPs/Run_2015-03-06/Trp53MIP_S19_L001_R2_001.fastq.gz\"\n",
    "\n",
    "\n"
   ]
  },
  {
   "cell_type": "code",
   "execution_count": 182,
   "metadata": {
    "collapsed": false
   },
   "outputs": [],
   "source": [
    "#set up myData dictionary\n",
    "# setup file location info\n",
    "myData = {}\n",
    "#myData['r1fq'] = options.r1fq\n",
    "#myData['r2fq'] = options.r2fq\n",
    "#myData['sampleName'] = options.sampleName\n",
    "myData['r1fq'] = r1fqFile\n",
    "myData['r2fq'] = r2fqFile\n",
    "myData['sampleName'] = \"Trp53\"\n",
    "myData['tags'] = defaultdict(int) #tag will be the key and the family size will be the count\n",
    "barcode_dict = defaultdict(int)"
   ]
  },
  {
   "cell_type": "code",
   "execution_count": 183,
   "metadata": {
    "collapsed": false
   },
   "outputs": [
    {
     "name": "stdout",
     "output_type": "stream",
     "text": [
      "total number of reads is 2356117\n"
     ]
    }
   ],
   "source": [
    "#iterate through the fastq files\n",
    "\n",
    "def fastq_iterator(myData):\n",
    "    #count =0\n",
    "    fqfileR1 = genutils.open_gzip_read(myData['r1fq'])\n",
    "    fqfileR2 = genutils.open_gzip_read(myData['r2fq'])\n",
    "    while True: \n",
    "        #count+=1\n",
    "        R1 = fastqstats.get_next_seq_record(fqfileR1)\n",
    "        R2 = fastqstats.get_next_seq_record(fqfileR2)\n",
    "        if R1 is None: break \n",
    "        if R2 is None: break\n",
    "        yield (R1['seq'], R2['seq'])\n",
    "        #if(count>1000): break\n",
    "\n",
    "readCount = 0\n",
    "for read1Seq, read2Seq in fastq_iterator(myData):\n",
    "    readCount +=1\n",
    "    tag = read2Seq[:11]\n",
    "    if(tag not in barcode_dict):\n",
    "        barcode_dict.update({tag:int(1)})\n",
    "    else:\n",
    "        barcode_dict[tag] += int(1)\n",
    "\n",
    "print(\"%s %s\" % (\"total number of reads is\",str(readCount)))\n",
    "    \n"
   ]
  },
  {
   "cell_type": "code",
   "execution_count": 184,
   "metadata": {
    "collapsed": false
   },
   "outputs": [],
   "source": [
    "%matplotlib inline\n",
    "import matplotlib\n",
    "import matplotlib.pyplot as plt\n",
    "matplotlib.style.use('ggplot')\n",
    "import numpy as np\n",
    "import pandas as pd\n",
    "import scipy.misc"
   ]
  },
  {
   "cell_type": "code",
   "execution_count": 185,
   "metadata": {
    "collapsed": false
   },
   "outputs": [
    {
     "name": "stdout",
     "output_type": "stream",
     "text": [
      "count    1401129.000000\n",
      "mean           1.681585\n",
      "std           87.741409\n",
      "min            1.000000\n",
      "25%            1.000000\n",
      "50%            1.000000\n",
      "75%            2.000000\n",
      "max       102716.000000\n",
      "dtype: float64\n"
     ]
    }
   ],
   "source": [
    "barcodeCounts= pd.DataFrame({'counts': barcode_dict.values()})\n",
    "print barcodeCounts['counts'].describe()\n",
    "\n",
    "file = open('/home/moetjens/kidd-lab-scratch/moetjens-projects/bsmn/MIPs/Run_2015-03-06/barcodeCounts.txt','w')\n",
    "\n",
    "for key, value in barcode_dict.iteritems():\n",
    "    file.write(\"%s\\t%s\\n\" % (key,value))\n",
    "\n",
    "file.close()\n",
    "\n",
    "\n",
    "#histogram w/ Pandas\n",
    "#myTicksX = range(0, 1200, 100)\n",
    "#myLimX = [0,800] \n",
    "#len(barcodeCounts)\n",
    "#barcodeCounts[1:100]\n",
    "#merged.plot(kind='hist', stacked=True, bins=20)"
   ]
  },
  {
   "cell_type": "code",
   "execution_count": null,
   "metadata": {
    "collapsed": false
   },
   "outputs": [],
   "source": []
  },
  {
   "cell_type": "code",
   "execution_count": null,
   "metadata": {
    "collapsed": true
   },
   "outputs": [],
   "source": []
  }
 ],
 "metadata": {
  "kernelspec": {
   "display_name": "Python 2",
   "language": "python",
   "name": "python2"
  },
  "language_info": {
   "codemirror_mode": {
    "name": "ipython",
    "version": 2
   },
   "file_extension": ".py",
   "mimetype": "text/x-python",
   "name": "python",
   "nbconvert_exporter": "python",
   "pygments_lexer": "ipython2",
   "version": "2.7.2"
  }
 },
 "nbformat": 4,
 "nbformat_minor": 0
}
