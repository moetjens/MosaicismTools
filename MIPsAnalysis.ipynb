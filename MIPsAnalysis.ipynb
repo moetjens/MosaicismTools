{
 "cells": [
  {
   "cell_type": "code",
   "execution_count": 20,
   "metadata": {
    "collapsed": true
   },
   "outputs": [],
   "source": [
    "import sys\n",
    "sys.path.append('/home/moetjens/kidd-lab/jmkidd-projects/scripts/nextgen')\n",
    "sys.path.append('/home/moetjens/kidd-lab/jmkidd-projects/scripts/pythonUtils')\n",
    "import genutils\n",
    "from optparse import OptionParser\n",
    "import fastqstats\n",
    "from collections import defaultdict"
   ]
  },
  {
   "cell_type": "code",
   "execution_count": 28,
   "metadata": {
    "collapsed": false
   },
   "outputs": [],
   "source": [
    "#arguements for inputs, outputs, and sample name\n",
    "\n",
    "USAGE = \"\"\"\n",
    "Program on the command line here\n",
    "\"\"\"\n",
    "\n",
    "parser = OptionParser()\n",
    "parser.add_option('--r1fq',dest='r1fq', help = 'name of f1 fq.gz')\n",
    "parser.add_option('--r2fq',dest='r2fq', help = 'name of f2 fq.gz')\n",
    "parser.add_option('--sample',dest='sampleName', help = 'name of sample')\n",
    "\n",
    "#(options, args) = parser.parse_args()\n",
    "\n",
    "#if options.r1fq is None:\n",
    "#    parser.error('r1fq name not given')\n",
    "\n",
    "#if options.r2fq is None:\n",
    "#    parser.error('r2fq not given')\n",
    "\n",
    "#if options.sampleName is None:\n",
    "#    parser.error('sampleName not given')\n",
    "\n",
    "r1fqFile= \"/home/moetjens/kidd-lab-scratch/moetjens-projects/bsmn/MIPs/Run_2015-03-06/Trp53MIP_S19_L001_R1_001.fastq.gz\"\n",
    "r2fqFile= \"/home/moetjens/kidd-lab-scratch/moetjens-projects/bsmn/MIPs/Run_2015-03-06/Trp53MIP_S19_L001_R2_001.fastq.gz\"\n",
    "\n",
    "\n"
   ]
  },
  {
   "cell_type": "code",
   "execution_count": 130,
   "metadata": {
    "collapsed": false
   },
   "outputs": [
    {
     "name": "stdout",
     "output_type": "stream",
     "text": [
      "/home/moetjens/kidd-lab-scratch/moetjens-projects/bsmn/MIPs/Run_2015-03-06/Trp53MIP_S19_L001_R1_001.fastq.gz\n"
     ]
    }
   ],
   "source": [
    "#set up myData dictionary\n",
    "# setup file location info\n",
    "myData = {}\n",
    "#myData['r1fq'] = options.r1fq\n",
    "#myData['r2fq'] = options.r2fq\n",
    "#myData['sampleName'] = options.sampleName\n",
    "myData['r1fq'] = r1fqFile\n",
    "myData['r2fq'] = r2fqFile\n",
    "myData['sampleName'] = \"Trp53\"\n",
    "myData['tags'] = defaultdict(int) #tag will be the key and the family size will be the count\n",
    "barcode_dict = defaultdict(int)\n",
    "\n",
    "print myData['r1fq']"
   ]
  },
  {
   "cell_type": "code",
   "execution_count": 172,
   "metadata": {
    "collapsed": false
   },
   "outputs": [
    {
     "name": "stdout",
     "output_type": "stream",
     "text": [
      "total number of reads is 2356117\n"
     ]
    }
   ],
   "source": [
    "#iterate through the fastq files\n",
    "\n",
    "def fastq_iterator(myData):\n",
    "    #count =0\n",
    "    fqfileR1 = genutils.open_gzip_read(myData['r1fq'])\n",
    "    fqfileR2 = genutils.open_gzip_read(myData['r2fq'])\n",
    "    while True: \n",
    "        #count+=1\n",
    "        R1 = fastqstats.get_next_seq_record(fqfileR1)\n",
    "        R2 = fastqstats.get_next_seq_record(fqfileR2)\n",
    "        if R1 is None: break \n",
    "        if R2 is None: break\n",
    "        yield (R1['seq'], R2['seq'])\n",
    "        #if(count>1000): break\n",
    "\n",
    "readCount = 0\n",
    "for read1Seq, read2Seq in fastq_iterator(myData):\n",
    "    readCount +=1\n",
    "    tag = read2Seq[:11]\n",
    "    if(tag not in barcode_dict):\n",
    "        barcode_dict.update({tag:int(1)})\n",
    "    else:\n",
    "        barcode_dict[tag] += int(1)\n",
    "\n",
    "print(\"%s %s\" % (\"total number of reads is\",str(readCount)))\n",
    "    \n"
   ]
  },
  {
   "cell_type": "code",
   "execution_count": 171,
   "metadata": {
    "collapsed": false
   },
   "outputs": [
    {
     "name": "stdout",
     "output_type": "stream",
     "text": [
      "total number of reads is 2356117\n"
     ]
    }
   ],
   "source": [
    "%matplotlib inline\n",
    "import matplotlib\n",
    "import matplotlib.pyplot as plt\n",
    "matplotlib.style.use('ggplot')\n",
    "import numpy as np\n",
    "import pandas as pd\n",
    "import scipy.misc"
   ]
  },
  {
   "cell_type": "code",
   "execution_count": 150,
   "metadata": {
    "collapsed": false
   },
   "outputs": [
    {
     "data": {
      "text/plain": [
       "1401129.0"
      ]
     },
     "execution_count": 150,
     "metadata": {},
     "output_type": "execute_result"
    }
   ],
   "source": [
    "barcodeCounts=[]\n",
    "for line in barcode_dict.values():\n",
    "    barcodeCounts.append(int(line))\n",
    "#print barcode_dict.values()[1:10]\n",
    "barcodeCounts= pd.DataFrame({'counts': barcode_dict.values()})\n",
    "merged['counts'].describe()\n",
    "\n",
    "[0]\n",
    "\n",
    "#file = open('/home/moetjens/kidd-lab-scratch/moetjens-projects/bsmn/MIPs/Run_2015-03-06/barcodeCounts.txt','w')\n",
    "\n",
    "for key, value in barcode_dict.iteritems():\n",
    "    file.write(\"%s\\t%s\\n\" % (key,value))\n",
    "\n",
    "#file.close()\n",
    "#histogram w/ Pandas\n",
    "\n",
    "#myTicksX = range(0, 1200, 100)\n",
    "#myLimX = [0,800] \n",
    "\n",
    "#len(barcodeCounts)\n",
    "#barcodeCounts[1:100]\n",
    "#merged.plot(kind='hist', stacked=True, bins=20)\n",
    "#fig = plt.figure()\n",
    "#ax = fig.add_subplot(111)\n",
    "#ax.hist(barcodeCounts,1000,color='green',alpha=0.8,)\n",
    "#ax.set_xlim(0,3000)"
   ]
  },
  {
   "cell_type": "code",
   "execution_count": 147,
   "metadata": {
    "collapsed": false
   },
   "outputs": [
    {
     "ename": "ValueError",
     "evalue": "Invalid chart type given hist",
     "output_type": "error",
     "traceback": [
      "\u001b[1;31m---------------------------------------------------------------------------\u001b[0m",
      "\u001b[1;31mValueError\u001b[0m                                Traceback (most recent call last)",
      "\u001b[1;32m<ipython-input-147-365ca9c63726>\u001b[0m in \u001b[0;36m<module>\u001b[1;34m()\u001b[0m\n\u001b[0;32m      3\u001b[0m \u001b[1;33m\u001b[0m\u001b[0m\n\u001b[0;32m      4\u001b[0m \u001b[0mplt\u001b[0m\u001b[1;33m.\u001b[0m\u001b[0mfigure\u001b[0m\u001b[1;33m(\u001b[0m\u001b[1;33m)\u001b[0m\u001b[1;33m;\u001b[0m\u001b[1;33m\u001b[0m\u001b[0m\n\u001b[1;32m----> 5\u001b[1;33m \u001b[0mdf4\u001b[0m\u001b[1;33m.\u001b[0m\u001b[0mplot\u001b[0m\u001b[1;33m(\u001b[0m\u001b[0mkind\u001b[0m\u001b[1;33m=\u001b[0m\u001b[1;34m'hist'\u001b[0m\u001b[1;33m,\u001b[0m \u001b[0malpha\u001b[0m\u001b[1;33m=\u001b[0m\u001b[1;36m0.5\u001b[0m\u001b[1;33m)\u001b[0m\u001b[1;33m\u001b[0m\u001b[0m\n\u001b[0m\u001b[0;32m      6\u001b[0m \u001b[1;33m\u001b[0m\u001b[0m\n",
      "\u001b[1;32m/home/moetjens/kidd-lab/local/lib/python2.7/site-packages/pandas/tools/plotting.pyc\u001b[0m in \u001b[0;36mplot_frame\u001b[1;34m(frame, x, y, subplots, sharex, sharey, use_index, figsize, grid, legend, rot, ax, style, title, xlim, ylim, logx, logy, xticks, yticks, kind, sort_columns, fontsize, secondary_y, **kwds)\u001b[0m\n\u001b[0;32m   1605\u001b[0m         \u001b[0mklass\u001b[0m \u001b[1;33m=\u001b[0m \u001b[0mKdePlot\u001b[0m\u001b[1;33m\u001b[0m\u001b[0m\n\u001b[0;32m   1606\u001b[0m     \u001b[1;32melse\u001b[0m\u001b[1;33m:\u001b[0m\u001b[1;33m\u001b[0m\u001b[0m\n\u001b[1;32m-> 1607\u001b[1;33m         \u001b[1;32mraise\u001b[0m \u001b[0mValueError\u001b[0m\u001b[1;33m(\u001b[0m\u001b[1;34m'Invalid chart type given %s'\u001b[0m \u001b[1;33m%\u001b[0m \u001b[0mkind\u001b[0m\u001b[1;33m)\u001b[0m\u001b[1;33m\u001b[0m\u001b[0m\n\u001b[0m\u001b[0;32m   1608\u001b[0m \u001b[1;33m\u001b[0m\u001b[0m\n\u001b[0;32m   1609\u001b[0m     \u001b[1;32mif\u001b[0m \u001b[0mx\u001b[0m \u001b[1;32mis\u001b[0m \u001b[1;32mnot\u001b[0m \u001b[0mNone\u001b[0m\u001b[1;33m:\u001b[0m\u001b[1;33m\u001b[0m\u001b[0m\n",
      "\u001b[1;31mValueError\u001b[0m: Invalid chart type given hist"
     ]
    },
    {
     "data": {
      "text/plain": [
       "<matplotlib.figure.Figure at 0x2b9a364e18d0>"
      ]
     },
     "metadata": {},
     "output_type": "display_data"
    }
   ],
   "source": [
    "df4 = pd.DataFrame({'a': np.random.randn(1000) + 1, 'b': np.random.randn(1000),\n",
    "   ....:                     'c': np.random.randn(1000) - 1}, columns=['a', 'b', 'c'])\n",
    "\n",
    "plt.figure();\n",
    "df4.plot(kind='hist', alpha=0.5)\n",
    " "
   ]
  },
  {
   "cell_type": "code",
   "execution_count": null,
   "metadata": {
    "collapsed": true
   },
   "outputs": [],
   "source": [
    "def tag_extract_fxn(read_seq, blen):\n",
    "\t# This is the function that extracts the UID tags from both the\n",
    "    # forward and reverse read.  Assigns read1 the sequence from some\n",
    "    # position to the end, then read2 from some position to the end,\n",
    "    # then assigns tag1 from the 5'-end to length of the UID tag for\n",
    "    # read1 and then read 2.\n",
    "\treturn read_seq[0][:blen], read_seq[1][:blen]\n",
    "\n",
    "#tag1, tag2 = tag_extract_fxn((read1_seq, read2_seq), o.taglen)"
   ]
  }
 ],
 "metadata": {
  "kernelspec": {
   "display_name": "Python 2",
   "language": "python",
   "name": "python2"
  },
  "language_info": {
   "codemirror_mode": {
    "name": "ipython",
    "version": 2
   },
   "file_extension": ".py",
   "mimetype": "text/x-python",
   "name": "python",
   "nbconvert_exporter": "python",
   "pygments_lexer": "ipython2",
   "version": "2.7.2"
  }
 },
 "nbformat": 4,
 "nbformat_minor": 0
}
