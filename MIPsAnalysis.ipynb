{
 "cells": [
  {
   "cell_type": "code",
   "execution_count": 158,
   "metadata": {
    "collapsed": false
   },
   "outputs": [],
   "source": [
    "import sys\n",
    "sys.path.append('/home/moetjens/kidd-lab/jmkidd-projects/scripts/nextgen')\n",
    "sys.path.append('/home/moetjens/kidd-lab/jmkidd-projects/scripts/pythonUtils')\n",
    "import genutils\n",
    "from optparse import OptionParser\n",
    "import fastqstats\n",
    "from collections import defaultdict\n",
    "import re"
   ]
  },
  {
   "cell_type": "code",
   "execution_count": 159,
   "metadata": {
    "collapsed": false
   },
   "outputs": [],
   "source": [
    "#arguements for inputs, outputs, and sample name\n",
    "\n",
    "USAGE = \"\"\"\n",
    "Program on the command line here\n",
    "\"\"\"\n",
    "\n",
    "parser = OptionParser()\n",
    "parser.add_option('--r1fq',dest='r1fq', help = 'name of f1 fq.gz')\n",
    "parser.add_option('--r2fq',dest='r2fq', help = 'name of f2 fq.gz')\n",
    "parser.add_option('--sample',dest='sampleName', help = 'name of sample')\n",
    "\n",
    "#(options, args) = parser.parse_args()\n",
    "\n",
    "#if options.r1fq is None:\n",
    "#    parser.error('r1fq name not given')\n",
    "\n",
    "#if options.r2fq is None:\n",
    "#    parser.error('r2fq not given')\n",
    "\n",
    "#if options.sampleName is None:\n",
    "#    parser.error('sampleName not given')\n",
    "\n",
    "r1fqFile= \"/home/moetjens/kidd-lab-scratch/moetjens-projects/bsmn/MIPs/Run_2015-03-06/Trp53MIP_S19_L001_R1_001.fastq.gz\"\n",
    "r2fqFile= \"/home/moetjens/kidd-lab-scratch/moetjens-projects/bsmn/MIPs/Run_2015-03-06/Trp53MIP_S19_L001_R2_001.fastq.gz\"\n",
    "\n",
    "\n"
   ]
  },
  {
   "cell_type": "code",
   "execution_count": 200,
   "metadata": {
    "collapsed": false
   },
   "outputs": [],
   "source": [
    "#set up myData dictionary\n",
    "# setup file location info\n",
    "myData = {}\n",
    "#myData['r1fq'] = options.r1fq\n",
    "#myData['r2fq'] = options.r2fq\n",
    "#myData['sampleName'] = options.sampleName\n",
    "myData['r1fq'] = r1fqFile\n",
    "myData['r2fq'] = r2fqFile\n",
    "myData['sampleName'] = \"Trp53\"\n",
    "barcode_dict = defaultdict(int)"
   ]
  },
  {
   "cell_type": "code",
   "execution_count": 201,
   "metadata": {
    "collapsed": false
   },
   "outputs": [
    {
     "name": "stdout",
     "output_type": "stream",
     "text": [
      "total number of read pairs is 2356117\n",
      "total number of dropped pairs is  81237\n"
     ]
    }
   ],
   "source": [
    "#iterate through the fastq files\n",
    "\n",
    "def fastq_iterator(myData):\n",
    "    #count =0\n",
    "    fqfileR1 = genutils.open_gzip_read(myData['r1fq'])\n",
    "    fqfileR2 = genutils.open_gzip_read(myData['r2fq'])\n",
    "    while True: \n",
    "        #count+=1\n",
    "        R1 = fastqstats.get_next_seq_record(fqfileR1)\n",
    "        R2 = fastqstats.get_next_seq_record(fqfileR2)\n",
    "        if R1 is None: break \n",
    "        if R2 is None: break\n",
    "        yield (R1['seq'], R2['seq'])\n",
    "        #if(count>1000): break\n",
    "\n",
    "\n",
    "readCount = 0\n",
    "dropOut = 0\n",
    "for read1Seq, read2Seq in fastq_iterator(myData):\n",
    "    readCount +=1\n",
    "    tag = read2Seq[:11]\n",
    "    if tag.count('N') > 0 or re.search('A{5,}', tag) or re.search('G{5,}', tag) or re.search('C{5,}', tag) or re.search('T{5,}', tag):\n",
    "            dropOut += 1\n",
    "            continue #drop sequence with any Ns or with strings of homopolymers > 4nt \n",
    "    if(tag not in barcode_dict):\n",
    "        barcode_dict.update({tag:int(1)})\n",
    "    else:\n",
    "        barcode_dict[tag] += int(1)\n",
    "\n",
    "print(\"%s %s\" % (\"total number of read pairs is\",str(readCount)))\n",
    "print(\"%s %s\" % (\"total number of dropped pairs is \",str(dropOut)))"
   ]
  },
  {
   "cell_type": "code",
   "execution_count": 204,
   "metadata": {
    "collapsed": false
   },
   "outputs": [],
   "source": [
    "%matplotlib inline\n",
    "import matplotlib\n",
    "import matplotlib.pyplot as plt\n",
    "matplotlib.style.use('ggplot')\n",
    "import numpy as np\n",
    "import pandas as pd\n",
    "import scipy.misc"
   ]
  },
  {
   "cell_type": "code",
   "execution_count": 205,
   "metadata": {
    "collapsed": false
   },
   "outputs": [
    {
     "name": "stdout",
     "output_type": "stream",
     "text": [
      "count    1358709.000000\n",
      "mean           1.674295\n",
      "std           89.099630\n",
      "min            1.000000\n",
      "25%            1.000000\n",
      "50%            1.000000\n",
      "75%            2.000000\n",
      "max       102716.000000\n",
      "dtype: float64\n"
     ]
    }
   ],
   "source": [
    "barcodeCounts= pd.DataFrame({'counts': barcode_dict.values()})\n",
    "print barcodeCounts['counts'].describe()\n",
    "\n",
    "\n",
    "#barcodeCounts.plot(kind='hist', stacked=True, bins=20)\n",
    "\n",
    "\n",
    "#file = open('/home/moetjens/kidd-lab-scratch/moetjens-projects/bsmn/MIPs/Run_2015-03-06/barcodeCounts.txt','w')\n",
    "\n",
    "#for key, value in barcode_dict.iteritems():\n",
    "    #file.write(\"%s\\t%s\\n\" % (key,value))\n",
    "\n",
    "#file.close()\n",
    "\n",
    "\n",
    "#histogram w/ Pandas\n",
    "#myTicksX = range(0, 1200, 100)\n",
    "#myLimX = [0,800] \n",
    "#len(barcodeCounts)\n",
    "#barcodeCounts[1:100]\n",
    "#merged.plot(kind='hist', stacked=True, bins=20)"
   ]
  },
  {
   "cell_type": "code",
   "execution_count": 206,
   "metadata": {
    "collapsed": false
   },
   "outputs": [],
   "source": [
    "SeqList=defaultdict(list)\n",
    "SeqList['1 copy']=[]\n",
    "SeqList['2 copies']=[]\n",
    "SeqList['3 copies']=[]\n",
    "SeqList['4 copies']=[]\n",
    "SeqList['5-10 copies']=[]\n",
    "SeqList['a11-100 copies']=[]\n",
    "SeqList['b101-1000 copies']=[]\n",
    "SeqList['c1000+']=[]\n",
    "\n",
    "#d[k].append(v)\n",
    "\n",
    "for tagSeq, tagCount in barcode_dict.iteritems(): \n",
    "    if tagCount == 1 :\n",
    "        SeqList['1 copy'].append(tagSeq)\n",
    "    if tagCount == 2 :\n",
    "        SeqList['2 copies'].append(tagSeq)\n",
    "    if tagCount == 3 :\n",
    "        SeqList['3 copies'].append(tagSeq)\n",
    "    if tagCount == 4 :\n",
    "        SeqList['4 copies'].append(tagSeq)\n",
    "    if tagCount in range(5,11):\n",
    "        SeqList['5-10 copies'].append(tagSeq)\n",
    "    if tagCount in range(11,101):\n",
    "        SeqList['a11-100 copies'].append(tagSeq)\n",
    "    if tagCount in range(101,1001):\n",
    "        SeqList['b101-1000 copies'].append(tagSeq)\n",
    "    if tagCount > 1000:\n",
    "        SeqList['c1000+'].append(tagSeq)"
   ]
  },
  {
   "cell_type": "code",
   "execution_count": 207,
   "metadata": {
    "collapsed": false
   },
   "outputs": [
    {
     "name": "stdout",
     "output_type": "stream",
     "text": [
      "1 copy 926906\n",
      "2 copies 281653\n",
      "3 copies 88999\n",
      "4 copies 31622\n",
      "5-10 copies 26328\n",
      "a11-100 copies 3055\n",
      "b101-1000 copies 135\n",
      "c1000+ 11\n"
     ]
    },
    {
     "data": {
      "text/plain": [
       "<matplotlib.text.Text at 0x665b950>"
      ]
     },
     "execution_count": 207,
     "metadata": {},
     "output_type": "execute_result"
    },
    {
     "data": {
      "image/png": "[encoded data removed]",
      "text/plain": [
       "<matplotlib.figure.Figure at 0x13b6f810>"
      ]
     },
     "metadata": {},
     "output_type": "display_data"
    }
   ],
   "source": [
    "tagCount=[]\n",
    "tagName=[]\n",
    "for tagSet in sorted(SeqList.keys()):\n",
    "    print(\"%s %s\" % (tagSet,len(SeqList[tagSet])))\n",
    "    tagCount.append(len(SeqList[tagSet]))\n",
    "    tagName.append(tagSet)\n",
    "    \n",
    "N = 8\n",
    "counts = tagCount\n",
    "names = tagName\n",
    "width=0.50\n",
    "ind = np.arange(N)  # the x locations for the groups\n",
    "fig, ax = plt.subplots()\n",
    "ax.bar(ind, counts, width, color='r')\n",
    "ax.set_xticklabels( (tagName), rotation='vertical'  )\n",
    "plt.xticks(ind+width/2., names)\n",
    "plt.ylabel('Count of Unique Barcodes')"
   ]
  },
  {
   "cell_type": "code",
   "execution_count": 208,
   "metadata": {
    "collapsed": false
   },
   "outputs": [
    {
     "name": "stdout",
     "output_type": "stream",
     "text": [
      "1 copy 0.393404062701\n",
      "2 copies 0.119541177284\n",
      "3 copies 0.0377735910398\n",
      "4 copies 0.0134212350236\n",
      "5-10 copies 0.011174317744\n",
      "a11-100 copies 0.00129662491294\n",
      "b101-1000 copies 5.72976639106e-05\n",
      "c1000+ 4.66869854086e-06\n"
     ]
    },
    {
     "data": {
      "text/plain": [
       "<matplotlib.text.Text at 0x8f82850>"
      ]
     },
     "execution_count": 208,
     "metadata": {},
     "output_type": "execute_result"
    },
    {
     "data": {
      "image/png": "[encoded data removed]",
      "text/plain": [
       "<matplotlib.figure.Figure at 0x13b9ecd0>"
      ]
     },
     "metadata": {},
     "output_type": "display_data"
    }
   ],
   "source": [
    "from __future__ import division\n",
    "\n",
    "tagCount=[]\n",
    "tagName=[]\n",
    "for tagSet in sorted(SeqList.keys()):\n",
    "    print(\"%s %s\" % (tagSet,float(len(SeqList[tagSet])/readCount)))\n",
    "    tagCount.append(len(SeqList[tagSet])/readCount)\n",
    "    tagName.append(tagSet)\n",
    "    \n",
    "N = 8\n",
    "counts = tagCount\n",
    "names = tagName\n",
    "width=0.50\n",
    "ind = np.arange(N)  # the x locations for the groups\n",
    "fig, ax = plt.subplots()\n",
    "ax.bar(ind, counts, width, color='r')\n",
    "ax.set_xticklabels( (tagName), rotation='vertical'  )\n",
    "plt.xticks(ind+width/2., names)\n",
    "plt.ylabel('Percentage of Paired Reads')\n",
    "\n"
   ]
  },
  {
   "cell_type": "code",
   "execution_count": 194,
   "metadata": {
    "collapsed": false
   },
   "outputs": [],
   "source": [
    "import re\n",
    "match = re.search('A{5,}', 'TAAAACTG')\n",
    "if match:\n",
    "    print \"matches\""
   ]
  },
  {
   "cell_type": "code",
   "execution_count": null,
   "metadata": {
    "collapsed": true
   },
   "outputs": [],
   "source": []
  },
  {
   "cell_type": "code",
   "execution_count": null,
   "metadata": {
    "collapsed": true
   },
   "outputs": [],
   "source": []
  }
 ],
 "metadata": {
  "kernelspec": {
   "display_name": "Python 2",
   "language": "python",
   "name": "python2"
  },
  "language_info": {
   "codemirror_mode": {
    "name": "ipython",
    "version": 2
   },
   "file_extension": ".py",
   "mimetype": "text/x-python",
   "name": "python",
   "nbconvert_exporter": "python",
   "pygments_lexer": "ipython2",
   "version": "2.7.2"
  }
 },
 "nbformat": 4,
 "nbformat_minor": 0
}
